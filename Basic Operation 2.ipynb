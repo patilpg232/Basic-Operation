{
 "cells": [
  {
   "cell_type": "code",
   "execution_count": 1,
   "id": "2d860ec1-c595-4daf-befe-8b24acae88bc",
   "metadata": {},
   "outputs": [],
   "source": [
    "a='My Lovely Boy'"
   ]
  },
  {
   "cell_type": "code",
   "execution_count": 2,
   "id": "61d5083f-86e5-4d27-90dc-31f216ed5557",
   "metadata": {},
   "outputs": [
    {
     "data": {
      "text/plain": [
       "'My Lovely Boy'"
      ]
     },
     "execution_count": 2,
     "metadata": {},
     "output_type": "execute_result"
    }
   ],
   "source": [
    "a"
   ]
  },
  {
   "cell_type": "code",
   "execution_count": 19,
   "id": "335e63b9-b33d-4032-a497-246d969e21ab",
   "metadata": {},
   "outputs": [
    {
     "data": {
      "text/plain": [
       "0"
      ]
     },
     "execution_count": 19,
     "metadata": {},
     "output_type": "execute_result"
    }
   ],
   "source": [
    "a.find(a)"
   ]
  },
  {
   "cell_type": "code",
   "execution_count": 11,
   "id": "b5e9f1b0-adb2-4eb9-a409-f0ca3e580ebe",
   "metadata": {},
   "outputs": [
    {
     "data": {
      "text/plain": [
       "4"
      ]
     },
     "execution_count": 11,
     "metadata": {},
     "output_type": "execute_result"
    }
   ],
   "source": [
    "a.find('o')"
   ]
  },
  {
   "cell_type": "code",
   "execution_count": 12,
   "id": "57834a67-0501-4d88-98cf-6d6a7e77c739",
   "metadata": {},
   "outputs": [
    {
     "data": {
      "text/plain": [
       "4"
      ]
     },
     "execution_count": 12,
     "metadata": {},
     "output_type": "execute_result"
    }
   ],
   "source": [
    "a.find('ov')"
   ]
  },
  {
   "cell_type": "code",
   "execution_count": 13,
   "id": "7a97d33c-8e0d-41e6-9a8a-765b858e29c4",
   "metadata": {},
   "outputs": [],
   "source": [
    "c='I hate RCPIT'"
   ]
  },
  {
   "cell_type": "code",
   "execution_count": 14,
   "id": "235fa186-0aa9-4f54-9020-f88e977e3ff7",
   "metadata": {},
   "outputs": [
    {
     "data": {
      "text/plain": [
       "'I hate RCPIT'"
      ]
     },
     "execution_count": 14,
     "metadata": {},
     "output_type": "execute_result"
    }
   ],
   "source": [
    "c"
   ]
  },
  {
   "cell_type": "code",
   "execution_count": 15,
   "id": "dfb90f4a-2d86-4a56-a68c-3e09c5ce7de0",
   "metadata": {},
   "outputs": [
    {
     "data": {
      "text/plain": [
       "1"
      ]
     },
     "execution_count": 15,
     "metadata": {},
     "output_type": "execute_result"
    }
   ],
   "source": [
    "c.count('R')"
   ]
  },
  {
   "cell_type": "code",
   "execution_count": 16,
   "id": "38865b92-063d-4e29-a7c0-bc52276f71df",
   "metadata": {},
   "outputs": [
    {
     "data": {
      "text/plain": [
       "['I', 'hate', 'RCPIT']"
      ]
     },
     "execution_count": 16,
     "metadata": {},
     "output_type": "execute_result"
    }
   ],
   "source": [
    "l=c.split()"
   ]
  },
  {
   "cell_type": "code",
   "execution_count": 27,
   "id": "8415ec50-0cec-4120-aa56-8b07b26727f4",
   "metadata": {},
   "outputs": [
    {
     "data": {
      "text/plain": [
       "list[slice(0, 2, None)]"
      ]
     },
     "execution_count": 27,
     "metadata": {},
     "output_type": "execute_result"
    }
   ],
   "source": [
    "l[0:2]"
   ]
  },
  {
   "cell_type": "code",
   "execution_count": 21,
   "id": "7049b2e1-646a-43e8-9565-eb1409dc7c40",
   "metadata": {},
   "outputs": [],
   "source": [
    "l=type(c.split())"
   ]
  },
  {
   "cell_type": "code",
   "execution_count": 24,
   "id": "d577bb51-dfc7-4d13-b445-f410170a4add",
   "metadata": {},
   "outputs": [
    {
     "data": {
      "text/plain": [
       "list"
      ]
     },
     "execution_count": 24,
     "metadata": {},
     "output_type": "execute_result"
    }
   ],
   "source": [
    "l"
   ]
  },
  {
   "cell_type": "code",
   "execution_count": 25,
   "id": "268b8248-989f-49a7-8f17-ba7823695924",
   "metadata": {},
   "outputs": [
    {
     "data": {
      "text/plain": [
       "list[slice(0, 2, None)]"
      ]
     },
     "execution_count": 25,
     "metadata": {},
     "output_type": "execute_result"
    }
   ],
   "source": [
    "l[0:2]"
   ]
  },
  {
   "cell_type": "code",
   "execution_count": 32,
   "id": "4d88e6fe-280b-431f-8537-1c1ea929f13a",
   "metadata": {},
   "outputs": [],
   "source": [
    "v='Manu is Good'"
   ]
  },
  {
   "cell_type": "code",
   "execution_count": 33,
   "id": "9957e4bf-d55f-40fb-a038-bff38c3616d1",
   "metadata": {},
   "outputs": [
    {
     "data": {
      "text/plain": [
       "'Manu is Good'"
      ]
     },
     "execution_count": 33,
     "metadata": {},
     "output_type": "execute_result"
    }
   ],
   "source": [
    "v"
   ]
  },
  {
   "cell_type": "code",
   "execution_count": 34,
   "id": "dbbab34a-20e8-43cf-a3c1-fa5e268bdd9f",
   "metadata": {},
   "outputs": [
    {
     "data": {
      "text/plain": [
       "'MANU IS GOOD'"
      ]
     },
     "execution_count": 34,
     "metadata": {},
     "output_type": "execute_result"
    }
   ],
   "source": [
    "v.upper()"
   ]
  },
  {
   "cell_type": "code",
   "execution_count": 35,
   "id": "b5066d05-d78d-4368-bace-01ccfbbf9dc3",
   "metadata": {},
   "outputs": [
    {
     "data": {
      "text/plain": [
       "'mANU IS gOOD'"
      ]
     },
     "execution_count": 35,
     "metadata": {},
     "output_type": "execute_result"
    }
   ],
   "source": [
    "v.swapcase()"
   ]
  },
  {
   "cell_type": "code",
   "execution_count": 36,
   "id": "0adb0096-d499-4350-9d9f-cc779ef19aed",
   "metadata": {},
   "outputs": [
    {
     "data": {
      "text/plain": [
       "'Manu is good'"
      ]
     },
     "execution_count": 36,
     "metadata": {},
     "output_type": "execute_result"
    }
   ],
   "source": [
    "v.capitalize()"
   ]
  },
  {
   "cell_type": "code",
   "execution_count": 37,
   "id": "e3b3e388-e43a-47ac-a95a-28a7e701d1ab",
   "metadata": {},
   "outputs": [
    {
     "data": {
      "text/plain": [
       "'manu is good'"
      ]
     },
     "execution_count": 37,
     "metadata": {},
     "output_type": "execute_result"
    }
   ],
   "source": [
    "v.casefold()"
   ]
  },
  {
   "cell_type": "code",
   "execution_count": 40,
   "id": "67a6af3a-2136-4469-84b2-da3a893b073b",
   "metadata": {},
   "outputs": [],
   "source": [
    "b='Subodh'\n",
    "c='Bad boy'"
   ]
  },
  {
   "cell_type": "code",
   "execution_count": 41,
   "id": "a5e10f0d-7c6c-4872-a11e-00b6cce15400",
   "metadata": {},
   "outputs": [
    {
     "data": {
      "text/plain": [
       "'BSubodhaSubodhdSubodh SubodhbSubodhoSubodhy'"
      ]
     },
     "execution_count": 41,
     "metadata": {},
     "output_type": "execute_result"
    }
   ],
   "source": [
    "b.join(c)"
   ]
  },
  {
   "cell_type": "code",
   "execution_count": 44,
   "id": "a7152347-7cb7-49d1-b0b4-9ee9152fd27e",
   "metadata": {},
   "outputs": [
    {
     "data": {
      "text/plain": [
       "'M a n u'"
      ]
     },
     "execution_count": 44,
     "metadata": {},
     "output_type": "execute_result"
    }
   ],
   "source": [
    "\" \".join(\"Manu\")"
   ]
  },
  {
   "cell_type": "code",
   "execution_count": 50,
   "id": "9c01577b-fe55-45dc-a228-e8ccadf2ad74",
   "metadata": {},
   "outputs": [
    {
     "name": "stdout",
     "output_type": "stream",
     "text": [
      "r\n",
      "a\n",
      "m\n",
      "u\n",
      "k\n"
     ]
    }
   ],
   "source": [
    "for i in reversed(\"kumar\"):\n",
    "  print (i)"
   ]
  },
  {
   "cell_type": "code",
   "execution_count": 52,
   "id": "e8366542-b508-4d98-9922-3661c5656836",
   "metadata": {},
   "outputs": [],
   "source": [
    "h='sheetal'"
   ]
  },
  {
   "cell_type": "code",
   "execution_count": 55,
   "id": "2f785a62-151c-4355-976a-6b9826228fe3",
   "metadata": {},
   "outputs": [
    {
     "data": {
      "text/plain": [
       "'Mariheetal'"
      ]
     },
     "execution_count": 55,
     "metadata": {},
     "output_type": "execute_result"
    }
   ],
   "source": [
    "h.replace(\"s\",\"Mari\")"
   ]
  },
  {
   "cell_type": "code",
   "execution_count": 60,
   "id": "b0990371-57cc-4add-9105-26d018759e9d",
   "metadata": {},
   "outputs": [
    {
     "data": {
      "text/plain": [
       "'sheetal patil'"
      ]
     },
     "execution_count": 60,
     "metadata": {},
     "output_type": "execute_result"
    }
   ],
   "source": [
    "\"sheetal\\tpatil\".expandtabs()"
   ]
  },
  {
   "cell_type": "code",
   "execution_count": 67,
   "id": "b406cbbb",
   "metadata": {},
   "outputs": [
    {
     "data": {
      "text/plain": [
       "'nnnnnnnnnnnnnnnnnnnnnnnnnnnnnnsheetalnnnnnnnnnnnnnnnnnnnnnnnnnnnnnn'"
      ]
     },
     "execution_count": 66,
     "metadata": {},
     "output_type": "execute_result"
    }
   ],
   "source": [
    "h.center(67,'9')"
   ]
  },
  {
   "cell_type": "code",
   "execution_count": 68,
   "id": "0e20daf3-783a-42b1-81d2-318af17e381b",
   "metadata": {},
   "outputs": [],
   "source": [
    "n='    India is best part in world'"
   ]
  },
  {
   "cell_type": "code",
   "execution_count": 69,
   "id": "1ad553c0-2700-4714-baab-5fa72450f004",
   "metadata": {},
   "outputs": [
    {
     "data": {
      "text/plain": [
       "'    India is best part in world'"
      ]
     },
     "execution_count": 69,
     "metadata": {},
     "output_type": "execute_result"
    }
   ],
   "source": [
    "n"
   ]
  },
  {
   "cell_type": "code",
   "execution_count": 75,
   "id": "31374183-6dd6-4c28-888f-6258f7e82bb1",
   "metadata": {},
   "outputs": [
    {
     "data": {
      "text/plain": [
       "'India is best part in world'"
      ]
     },
     "execution_count": 75,
     "metadata": {},
     "output_type": "execute_result"
    }
   ],
   "source": [
    "n.strip()"
   ]
  },
  {
   "cell_type": "code",
   "execution_count": 76,
   "id": "05d549ae-550a-4b7c-9d55-092482af93c5",
   "metadata": {},
   "outputs": [
    {
     "data": {
      "text/plain": [
       "'India is best part in world'"
      ]
     },
     "execution_count": 76,
     "metadata": {},
     "output_type": "execute_result"
    }
   ],
   "source": [
    "n.strip()"
   ]
  },
  {
   "cell_type": "code",
   "execution_count": 77,
   "id": "c95c2264-8bea-4db1-ad52-a4d9d56c7fbb",
   "metadata": {},
   "outputs": [
    {
     "data": {
      "text/plain": [
       "False"
      ]
     },
     "execution_count": 77,
     "metadata": {},
     "output_type": "execute_result"
    }
   ],
   "source": [
    "h.isupper()"
   ]
  },
  {
   "cell_type": "code",
   "execution_count": 80,
   "id": "9085e3e1-5566-428f-a0a9-21996a164276",
   "metadata": {},
   "outputs": [
    {
     "data": {
      "text/plain": [
       "True"
      ]
     },
     "execution_count": 80,
     "metadata": {},
     "output_type": "execute_result"
    }
   ],
   "source": [
    "h.islower()"
   ]
  },
  {
   "cell_type": "code",
   "execution_count": 81,
   "id": "0c27fcb3-bea7-4650-bf82-c3295f189c31",
   "metadata": {},
   "outputs": [],
   "source": [
    "a='Manu'"
   ]
  },
  {
   "cell_type": "code",
   "execution_count": 82,
   "id": "00d43f3d-f587-4324-869a-5084852f6195",
   "metadata": {},
   "outputs": [
    {
     "data": {
      "text/plain": [
       "'Manu'"
      ]
     },
     "execution_count": 82,
     "metadata": {},
     "output_type": "execute_result"
    }
   ],
   "source": [
    "a"
   ]
  },
  {
   "cell_type": "code",
   "execution_count": 83,
   "id": "77aa235c-da17-4b4a-8cb7-94bac080a5ab",
   "metadata": {},
   "outputs": [
    {
     "data": {
      "text/plain": [
       "False"
      ]
     },
     "execution_count": 83,
     "metadata": {},
     "output_type": "execute_result"
    }
   ],
   "source": [
    "a.islower()"
   ]
  },
  {
   "cell_type": "code",
   "execution_count": 84,
   "id": "c37965f0-fb57-4ff7-a916-73bbd474fb38",
   "metadata": {},
   "outputs": [
    {
     "data": {
      "text/plain": [
       "False"
      ]
     },
     "execution_count": 84,
     "metadata": {},
     "output_type": "execute_result"
    }
   ],
   "source": [
    "a.isupper()"
   ]
  },
  {
   "cell_type": "code",
   "execution_count": 87,
   "id": "12372191-18e4-4685-a4c1-5a2d4443f349",
   "metadata": {},
   "outputs": [],
   "source": [
    "f=\"             \""
   ]
  },
  {
   "cell_type": "code",
   "execution_count": 88,
   "id": "f37d3903-53af-418d-bdb5-c03cdfa830a9",
   "metadata": {},
   "outputs": [
    {
     "data": {
      "text/plain": [
       "True"
      ]
     },
     "execution_count": 88,
     "metadata": {},
     "output_type": "execute_result"
    }
   ],
   "source": [
    "f.isspace()"
   ]
  },
  {
   "cell_type": "code",
   "execution_count": 89,
   "id": "ee2ea385-1204-4d60-8448-04280db0907b",
   "metadata": {},
   "outputs": [
    {
     "data": {
      "text/plain": [
       "False"
      ]
     },
     "execution_count": 89,
     "metadata": {},
     "output_type": "execute_result"
    }
   ],
   "source": [
    "f.isdigit()"
   ]
  },
  {
   "cell_type": "code",
   "execution_count": 90,
   "id": "ee54e8b6-bd62-456f-920e-bb86fb3eec84",
   "metadata": {},
   "outputs": [
    {
     "data": {
      "text/plain": [
       "False"
      ]
     },
     "execution_count": 90,
     "metadata": {},
     "output_type": "execute_result"
    }
   ],
   "source": [
    "f.isdecimal()"
   ]
  },
  {
   "cell_type": "code",
   "execution_count": 93,
   "id": "456cfd3e-5ada-4d29-8e9f-da046f46a7bb",
   "metadata": {},
   "outputs": [],
   "source": [
    "g=\"97778\""
   ]
  },
  {
   "cell_type": "code",
   "execution_count": 94,
   "id": "9e2a96bf-f36d-4a5a-8370-dfdc985aaf71",
   "metadata": {},
   "outputs": [
    {
     "data": {
      "text/plain": [
       "True"
      ]
     },
     "execution_count": 94,
     "metadata": {},
     "output_type": "execute_result"
    }
   ],
   "source": [
    "g.isdigit()"
   ]
  },
  {
   "cell_type": "code",
   "execution_count": 97,
   "id": "9b5b6b03-9234-404b-b0d4-a7f20a471c96",
   "metadata": {},
   "outputs": [
    {
     "data": {
      "text/plain": [
       "True"
      ]
     },
     "execution_count": 97,
     "metadata": {},
     "output_type": "execute_result"
    }
   ],
   "source": [
    "g.endswith('8')"
   ]
  },
  {
   "cell_type": "code",
   "execution_count": 98,
   "id": "b1dc8cfe-c74d-4ad8-8d97-2c18283eeed0",
   "metadata": {},
   "outputs": [
    {
     "data": {
      "text/plain": [
       "False"
      ]
     },
     "execution_count": 98,
     "metadata": {},
     "output_type": "execute_result"
    }
   ],
   "source": [
    "g.startswith('7')"
   ]
  },
  {
   "cell_type": "code",
   "execution_count": 99,
   "id": "6fc055e0-6772-4708-a5d6-b8cb99dddb76",
   "metadata": {},
   "outputs": [
    {
     "data": {
      "text/plain": [
       "False"
      ]
     },
     "execution_count": 99,
     "metadata": {},
     "output_type": "execute_result"
    }
   ],
   "source": [
    "g.istitle()"
   ]
  },
  {
   "cell_type": "code",
   "execution_count": 100,
   "id": "0ceef82a-20d8-4f5b-892c-fd977042d655",
   "metadata": {},
   "outputs": [
    {
     "data": {
      "text/plain": [
       "True"
      ]
     },
     "execution_count": 100,
     "metadata": {},
     "output_type": "execute_result"
    }
   ],
   "source": [
    "g.isnumeric()"
   ]
  },
  {
   "cell_type": "code",
   "execution_count": 101,
   "id": "fb8ea1f5-d349-4b86-84e9-bf8ea6eda67d",
   "metadata": {},
   "outputs": [
    {
     "data": {
      "text/plain": [
       "['97778']"
      ]
     },
     "execution_count": 101,
     "metadata": {},
     "output_type": "execute_result"
    }
   ],
   "source": [
    "g.splitlines()"
   ]
  },
  {
   "cell_type": "code",
   "execution_count": 107,
   "id": "192a4dc2-7db3-4512-9d91-ca4340b8d3b5",
   "metadata": {},
   "outputs": [
    {
     "data": {
      "text/plain": [
       "'hhhhhhhhhhhhhhhhhhhhhhhhhhhhhhhhhhhhhhhhhhhhhhh97778hhhhhhhhhhhhhhhhhhhhhhhhhhhhhhhhhhhhhhhhhhhhhhh'"
      ]
     },
     "execution_count": 107,
     "metadata": {},
     "output_type": "execute_result"
    }
   ],
   "source": [
    "g.center(99,'h')"
   ]
  },
  {
   "cell_type": "code",
   "execution_count": null,
   "id": "567d110f-c743-4785-b5eb-269a2ba5e200",
   "metadata": {},
   "outputs": [],
   "source": []
  }
 ],
 "metadata": {
  "kernelspec": {
   "display_name": "Python 3 (ipykernel)",
   "language": "python",
   "name": "python3"
  },
  "language_info": {
   "codemirror_mode": {
    "name": "ipython",
    "version": 3
   },
   "file_extension": ".py",
   "mimetype": "text/x-python",
   "name": "python",
   "nbconvert_exporter": "python",
   "pygments_lexer": "ipython3",
   "version": "3.9.12"
  }
 },
 "nbformat": 4,
 "nbformat_minor": 5
}
